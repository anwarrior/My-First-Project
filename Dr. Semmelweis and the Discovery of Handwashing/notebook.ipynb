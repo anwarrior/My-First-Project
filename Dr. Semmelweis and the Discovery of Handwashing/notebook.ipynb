{
 "cells": [
  {
   "cell_type": "markdown",
   "metadata": {
    "dc": {
     "key": "13f090f9f0"
    },
    "deletable": false,
    "editable": false,
    "run_control": {
     "frozen": true
    },
    "tags": [
     "context"
    ]
   },
   "source": [
    "## 1. Meet Dr. Ignaz Semmelweis\n",
    "<p><img style=\"float: left;margin:5px 20px 5px 1px\" src=\""></p>\n",
    "<!--\n",
    "<img style=\"float: left;margin:5px 20px 5px 1px\" src=\"data:image/jpeg;base64,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">\n",
    "-->\n",
    "<p>This is Dr. Ignaz Semmelweis, a Hungarian physician born in 1818 and active at the Vienna General Hospital. If Dr. Semmelweis looks troubled it's probably because he's thinking about <em>childbed fever</em>: A deadly disease affecting women that just have given birth. He is thinking about it because in the early 1840s at the Vienna General Hospital as many as 10% of the women giving birth die from it. He is thinking about it because he knows the cause of childbed fever: It's the contaminated hands of the doctors delivering the babies. And they won't listen to him and <em>wash their hands</em>!</p>\n",
    "<p>In this notebook, we're going to reanalyze the data that made Semmelweis discover the importance of <em>handwashing</em>. Let's start by looking at the data that made Semmelweis realize that something was wrong with the procedures at Vienna General Hospital.</p>"
   ]
  },
  {
   "cell_type": "code",
   "execution_count": 37,
   "metadata": {
    "dc": {
     "key": "13f090f9f0"
    },
    "tags": [
     "sample_code"
    ]
   },
   "outputs": [
    {
     "name": "stdout",
     "output_type": "stream",
     "text": [
      "    year  births  deaths    clinic\n",
      "0   1841    3036     237  clinic 1\n",
      "1   1842    3287     518  clinic 1\n",
      "2   1843    3060     274  clinic 1\n",
      "3   1844    3157     260  clinic 1\n",
      "4   1845    3492     241  clinic 1\n",
      "5   1846    4010     459  clinic 1\n",
      "6   1841    2442      86  clinic 2\n",
      "7   1842    2659     202  clinic 2\n",
      "8   1843    2739     164  clinic 2\n",
      "9   1844    2956      68  clinic 2\n",
      "10  1845    3241      66  clinic 2\n",
      "11  1846    3754     105  clinic 2\n"
     ]
    }
   ],
   "source": [
    "# importing modules\n",
    "import pandas as pd\n",
    "# ... YOUR CODE FOR TASK 1 ...\n",
    "\n",
    "\n",
    "# Read datasets/yearly_deaths_by_clinic.csv into yearly\n",
    "yearly =pd.read_csv(\"datasets/yearly_deaths_by_clinic.csv\")\n",
    "\n",
    "# Print out yearly\n",
    "print(yearly)\n",
    "# ... YOUR CODE FOR TASK 1 ..."
   ]
  },
  {
   "cell_type": "markdown",
   "metadata": {
    "dc": {
     "key": "45ea098e15"
    },
    "deletable": false,
    "editable": false,
    "run_control": {
     "frozen": true
    },
    "tags": [
     "context"
    ]
   },
   "source": [
    "## 2. The alarming number of deaths\n",
    "<p>The table above shows the number of women giving birth at the two clinics at the Vienna General Hospital for the years 1841 to 1846. You'll notice that giving birth was very dangerous; an <em>alarming</em> number of women died as the result of childbirth, most of them from childbed fever.</p>\n",
    "<p>We see this more clearly if we look at the <em>proportion of deaths</em> out of the number of women giving birth. Let's zoom in on the proportion of deaths at Clinic 1.</p>"
   ]
  },
  {
   "cell_type": "code",
   "execution_count": 39,
   "metadata": {
    "dc": {
     "key": "45ea098e15"
    },
    "tags": [
     "sample_code"
    ]
   },
   "outputs": [
    {
     "name": "stdout",
     "output_type": "stream",
     "text": [
      "   year  births  deaths    clinic  proportion_deaths\n",
      "0  1841    3036     237  clinic 1           0.078063\n",
      "1  1842    3287     518  clinic 1           0.157591\n",
      "2  1843    3060     274  clinic 1           0.089542\n",
      "3  1844    3157     260  clinic 1           0.082357\n",
      "4  1845    3492     241  clinic 1           0.069015\n",
      "5  1846    4010     459  clinic 1           0.114464\n"
     ]
    }
   ],
   "source": [
    "# Calculate proportion of deaths per no. births\n",
    "yearly[\"proportion_deaths\"]=yearly[\"deaths\"]/yearly[\"births\"]\n",
    "# ... YOUR CODE FOR TASK 2 ...\n",
    "\n",
    "# Extract clinic 1 data into yearly1 and clinic 2 data into yearly2\n",
    "yearly1 =yearly.iloc[0:6]\n",
    "yearly2 = yearly.iloc[6:12]\n",
    "# Print out yearly1\n",
    "print(yearly1)\n",
    "# ... YOUR CODE FOR TASK 2 ..."
   ]
  },
  {
   "cell_type": "markdown",
   "metadata": {
    "dc": {
     "key": "2bc9206960"
    },
    "deletable": false,
    "editable": false,
    "run_control": {
     "frozen": true
    },
    "tags": [
     "context"
    ]
   },
   "source": [
    "## 3. Death at the clinics\n",
    "<p>If we now plot the proportion of deaths at both clinic 1 and clinic 2  we'll see a curious pattern...</p>"
   ]
  },
  {
   "cell_type": "code",
   "execution_count": 41,
   "metadata": {
    "dc": {
     "key": "2bc9206960"
    },
    "tags": [
     "sample_code"
    ]
   },
   "outputs": [
    {
     "data": {
      "text/plain": [
       "<matplotlib.axes._subplots.AxesSubplot at 0x7f9b45e28a20>"
      ]
     },
     "execution_count": 41,
     "metadata": {},
     "output_type": "execute_result"
    },
    {
     "data": {
      "image/png": "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\n",
      "text/plain": [
       "<matplotlib.figure.Figure at 0x7f9b49301128>"
      ]
     },
     "metadata": {},
     "output_type": "display_data"
    }
   ],
   "source": [
    "# This makes plots appear in the notebook\n",
    "%matplotlib inline\n",
    "import matplotlib.pyplot as plt\n",
    "\n",
    "# Plot yearly proportion of deaths at the two clinics\n",
    "ax = yearly1.plot(x=\"year\", \n",
    "    y=\"proportion_deaths\", \n",
    "    label=\"Clinic 1\")\n",
    "yearly2.plot(x='year',y='proportion_deaths',label='clinic2',ax=ax)\n",
    "# ... YOUR CODE FOR TASK 3 ..."
   ]
  },
  {
   "cell_type": "markdown",
   "metadata": {
    "dc": {
     "key": "0c9fdbf550"
    },
    "deletable": false,
    "editable": false,
    "run_control": {
     "frozen": true
    },
    "tags": [
     "context"
    ]
   },
   "source": [
    "## 4. The handwashing begins\n",
    "<p>Why is the proportion of deaths constantly so much higher in Clinic 1? Semmelweis saw the same pattern and was puzzled and distressed. The only difference between the clinics was that many medical students served at Clinic 1, while mostly midwife students served at Clinic 2. While the midwives only tended to the women giving birth, the medical students also spent time in the autopsy rooms examining corpses. </p>\n",
    "<p>Semmelweis started to suspect that something on the corpses, spread from the hands of the medical students, caused childbed fever. So in a desperate attempt to stop the high mortality rates, he decreed: <em>Wash your hands!</em> This was an unorthodox and controversial request, nobody in Vienna knew about bacteria at this point in time. </p>\n",
    "<p>Let's load in monthly data from Clinic 1 to see if the handwashing had any effect.</p>"
   ]
  },
  {
   "cell_type": "code",
   "execution_count": 43,
   "metadata": {
    "dc": {
     "key": "0c9fdbf550"
    },
    "tags": [
     "sample_code"
    ]
   },
   "outputs": [
    {
     "name": "stdout",
     "output_type": "stream",
     "text": [
      "          date  births  deaths  proportion_deaths\n",
      "0   1841-01-01     254      37           0.145669\n",
      "1   1841-02-01     239      18           0.075314\n",
      "2   1841-03-01     277      12           0.043321\n",
      "3   1841-04-01     255       4           0.015686\n",
      "4   1841-05-01     255       2           0.007843\n",
      "5   1841-06-01     200      10           0.050000\n",
      "6   1841-07-01     190      16           0.084211\n",
      "7   1841-08-01     222       3           0.013514\n",
      "8   1841-09-01     213       4           0.018779\n",
      "9   1841-10-01     236      26           0.110169\n",
      "10  1841-11-01     235      53           0.225532\n",
      "11  1842-01-01     307      64           0.208469\n",
      "12  1842-02-01     311      38           0.122186\n",
      "13  1842-03-01     264      27           0.102273\n",
      "14  1842-04-01     242      26           0.107438\n",
      "15  1842-05-01     310      10           0.032258\n",
      "16  1842-06-01     273      18           0.065934\n",
      "17  1842-07-01     231      48           0.207792\n",
      "18  1842-08-01     216      55           0.254630\n",
      "19  1842-09-01     223      41           0.183857\n",
      "20  1842-10-01     242      71           0.293388\n",
      "21  1842-11-01     209      48           0.229665\n",
      "22  1842-12-01     239      75           0.313808\n",
      "23  1843-01-01     272      52           0.191176\n",
      "24  1843-02-01     263      42           0.159696\n",
      "25  1843-03-01     266      33           0.124060\n",
      "26  1843-04-01     285      34           0.119298\n",
      "27  1843-05-01     246      15           0.060976\n",
      "28  1843-06-01     196       8           0.040816\n",
      "29  1843-07-01     191       1           0.005236\n",
      "..         ...     ...     ...                ...\n",
      "68  1846-10-01     254      38           0.149606\n",
      "69  1846-11-01     297      32           0.107744\n",
      "70  1846-12-01     298      16           0.053691\n",
      "71  1847-01-01     311      10           0.032154\n",
      "72  1847-02-01     312       6           0.019231\n",
      "73  1847-03-01     305      11           0.036066\n",
      "74  1847-04-01     312      57           0.182692\n",
      "75  1847-05-01     294      36           0.122449\n",
      "76  1847-06-01     268       6           0.022388\n",
      "77  1847-07-01     250       3           0.012000\n",
      "78  1847-08-01     264       5           0.018939\n",
      "79  1847-09-01     262      12           0.045802\n",
      "80  1847-10-01     278      11           0.039568\n",
      "81  1847-11-01     246      11           0.044715\n",
      "82  1847-12-01     273       8           0.029304\n",
      "83  1848-01-01     283      10           0.035336\n",
      "84  1848-02-01     291       2           0.006873\n",
      "85  1848-03-01     276       0           0.000000\n",
      "86  1848-04-01     305       2           0.006557\n",
      "87  1848-05-01     313       3           0.009585\n",
      "88  1848-06-01     264       3           0.011364\n",
      "89  1848-07-01     269       1           0.003717\n",
      "90  1848-08-01     261       0           0.000000\n",
      "91  1848-09-01     312       3           0.009615\n",
      "92  1848-10-01     299       7           0.023411\n",
      "93  1848-11-01     310       9           0.029032\n",
      "94  1848-12-01     373       5           0.013405\n",
      "95  1849-01-01     403       9           0.022333\n",
      "96  1849-02-01     389      12           0.030848\n",
      "97  1849-03-01     406      20           0.049261\n",
      "\n",
      "[98 rows x 4 columns]\n",
      "        date  births  deaths  proportion_deaths\n",
      "0 1841-01-01     254      37           0.145669\n"
     ]
    }
   ],
   "source": [
    "# Read datasets/monthly_deaths.csv into monthly\n",
    "monthly =pd.read_csv('datasets/monthly_deaths.csv')\n",
    "#print(monthly)\n",
    "# Calculate proportion of deaths per no. births\n",
    "monthly['proportion_deaths']=monthly['deaths']/monthly['births']\n",
    "print(monthly)\n",
    "# ... YOUR CODE FOR TASK 4 ...\n",
    "monthly['date']=pd.to_datetime(monthly['date'])#,errors='coerce')\n",
    "\n",
    "# Print out the first rows in monthly\n",
    "print(monthly.head(1))\n",
    "# ... YOUR CODE FOR TASK 4 ..."
   ]
  },
  {
   "cell_type": "markdown",
   "metadata": {
    "dc": {
     "key": "2da2a84119"
    },
    "deletable": false,
    "editable": false,
    "run_control": {
     "frozen": true
    },
    "tags": [
     "context"
    ]
   },
   "source": [
    "## 5. The effect of handwashing\n",
    "<p>With the data loaded we can now look at the proportion of deaths over time. In the plot below we haven't marked where obligatory handwashing started, but it reduced the proportion of deaths to such a degree that you should be able to spot it!</p>"
   ]
  },
  {
   "cell_type": "code",
   "execution_count": 45,
   "metadata": {
    "dc": {
     "key": "2da2a84119"
    },
    "tags": [
     "sample_code"
    ]
   },
   "outputs": [
    {
     "data": {
      "image/png": "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\n",
      "text/plain": [
       "<matplotlib.figure.Figure at 0x7f9b45ea9f98>"
      ]
     },
     "metadata": {},
     "output_type": "display_data"
    }
   ],
   "source": [
    "# Plot monthly proportion of deaths\n",
    "ax = monthly.plot(x=\"date\", \n",
    "    y=\"proportion_deaths\")#, label=\"Clinic 1\")\n",
    "#yearly2.plot(x='date',y='proportion_deaths',label='clinic2',ax=ax)\n",
    "\n",
    "# ... YOUR CODE FOR TASK 5 ..."
   ]
  },
  {
   "cell_type": "markdown",
   "metadata": {
    "dc": {
     "key": "518e95acc5"
    },
    "deletable": false,
    "editable": false,
    "run_control": {
     "frozen": true
    },
    "tags": [
     "context"
    ]
   },
   "source": [
    "## 6. The effect of handwashing highlighted\n",
    "<p>Starting from the summer of 1847 the proportion of deaths is drastically reduced and, yes, this was when Semmelweis made handwashing obligatory. </p>\n",
    "<p>The effect of handwashing is made even more clear if we highlight this in the graph.</p>"
   ]
  },
  {
   "cell_type": "code",
   "execution_count": 47,
   "metadata": {
    "dc": {
     "key": "518e95acc5"
    },
    "tags": [
     "sample_code"
    ]
   },
   "outputs": [
    {
     "name": "stdout",
     "output_type": "stream",
     "text": [
      "---------before washing---------\n",
      "         date  births  deaths  proportion_deaths\n",
      "0  1841-01-01     254      37           0.145669\n",
      "1  1841-02-01     239      18           0.075314\n",
      "2  1841-03-01     277      12           0.043321\n",
      "3  1841-04-01     255       4           0.015686\n",
      "4  1841-05-01     255       2           0.007843\n",
      "5  1841-06-01     200      10           0.050000\n",
      "6  1841-07-01     190      16           0.084211\n",
      "7  1841-08-01     222       3           0.013514\n",
      "8  1841-09-01     213       4           0.018779\n",
      "9  1841-10-01     236      26           0.110169\n",
      "10 1841-11-01     235      53           0.225532\n",
      "11 1842-01-01     307      64           0.208469\n",
      "12 1842-02-01     311      38           0.122186\n",
      "13 1842-03-01     264      27           0.102273\n",
      "14 1842-04-01     242      26           0.107438\n",
      "15 1842-05-01     310      10           0.032258\n",
      "16 1842-06-01     273      18           0.065934\n",
      "17 1842-07-01     231      48           0.207792\n",
      "18 1842-08-01     216      55           0.254630\n",
      "19 1842-09-01     223      41           0.183857\n",
      "20 1842-10-01     242      71           0.293388\n",
      "21 1842-11-01     209      48           0.229665\n",
      "22 1842-12-01     239      75           0.313808\n",
      "23 1843-01-01     272      52           0.191176\n",
      "24 1843-02-01     263      42           0.159696\n",
      "25 1843-03-01     266      33           0.124060\n",
      "26 1843-04-01     285      34           0.119298\n",
      "27 1843-05-01     246      15           0.060976\n",
      "28 1843-06-01     196       8           0.040816\n",
      "29 1843-07-01     191       1           0.005236\n",
      "..        ...     ...     ...                ...\n",
      "46 1844-12-01     256      27           0.105469\n",
      "47 1845-01-01     303      23           0.075908\n",
      "48 1845-02-01     274      13           0.047445\n",
      "49 1845-03-01     292      13           0.044521\n",
      "50 1845-04-01     260      11           0.042308\n",
      "51 1845-05-01     296      13           0.043919\n",
      "52 1845-06-01     280      20           0.071429\n",
      "53 1845-07-01     245      15           0.061224\n",
      "54 1845-08-01     251       9           0.035857\n",
      "55 1845-09-01     237      25           0.105485\n",
      "56 1845-10-01     283      42           0.148410\n",
      "57 1845-11-01     265      29           0.109434\n",
      "58 1845-12-01     267      28           0.104869\n",
      "59 1846-01-01     336      45           0.133929\n",
      "60 1846-02-01     293      53           0.180887\n",
      "61 1846-03-01     311      48           0.154341\n",
      "62 1846-04-01     253      48           0.189723\n",
      "63 1846-05-01     305      41           0.134426\n",
      "64 1846-06-01     266      27           0.101504\n",
      "65 1846-07-01     252      33           0.130952\n",
      "66 1846-08-01     216      39           0.180556\n",
      "67 1846-09-01     271      39           0.143911\n",
      "68 1846-10-01     254      38           0.149606\n",
      "69 1846-11-01     297      32           0.107744\n",
      "70 1846-12-01     298      16           0.053691\n",
      "71 1847-01-01     311      10           0.032154\n",
      "72 1847-02-01     312       6           0.019231\n",
      "73 1847-03-01     305      11           0.036066\n",
      "74 1847-04-01     312      57           0.182692\n",
      "75 1847-05-01     294      36           0.122449\n",
      "\n",
      "[76 rows x 4 columns]\n",
      "-----------after washing----------\n",
      "         date  births  deaths  proportion_deaths\n",
      "76 1847-06-01     268       6           0.022388\n",
      "77 1847-07-01     250       3           0.012000\n",
      "78 1847-08-01     264       5           0.018939\n",
      "79 1847-09-01     262      12           0.045802\n",
      "80 1847-10-01     278      11           0.039568\n",
      "81 1847-11-01     246      11           0.044715\n",
      "82 1847-12-01     273       8           0.029304\n",
      "83 1848-01-01     283      10           0.035336\n",
      "84 1848-02-01     291       2           0.006873\n",
      "85 1848-03-01     276       0           0.000000\n",
      "86 1848-04-01     305       2           0.006557\n",
      "87 1848-05-01     313       3           0.009585\n",
      "88 1848-06-01     264       3           0.011364\n",
      "89 1848-07-01     269       1           0.003717\n",
      "90 1848-08-01     261       0           0.000000\n",
      "91 1848-09-01     312       3           0.009615\n",
      "92 1848-10-01     299       7           0.023411\n",
      "93 1848-11-01     310       9           0.029032\n",
      "94 1848-12-01     373       5           0.013405\n",
      "95 1849-01-01     403       9           0.022333\n",
      "96 1849-02-01     389      12           0.030848\n",
      "97 1849-03-01     406      20           0.049261\n"
     ]
    },
    {
     "data": {
      "text/plain": [
       "<matplotlib.axes._subplots.AxesSubplot at 0x7f9b45e937b8>"
      ]
     },
     "execution_count": 47,
     "metadata": {},
     "output_type": "execute_result"
    },
    {
     "data": {
      "image/png": "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\n",
      "text/plain": [
       "<matplotlib.figure.Figure at 0x7f9b45deb390>"
      ]
     },
     "metadata": {},
     "output_type": "display_data"
    }
   ],
   "source": [
    "# Date when handwashing was made mandatory\n",
    "import pandas as pd\n",
    "handwashing_start = pd.to_datetime('1847-06-01')\n",
    "\n",
    "# Split monthly into before and after handwashing\n",
    "before_washing = monthly[monthly[\"date\"] < handwashing_start]               #monthly.iloc[0:77]\n",
    "\n",
    "after_washing = monthly[monthly[\"date\"] >= handwashing_start]             #monthly.iloc[77:98]\n",
    "\n",
    "\n",
    "print(\"---------before washing---------\")\n",
    "print(before_washing)\n",
    "print('-----------after washing----------')\n",
    "print(after_washing)\n",
    "# Plot monthly proportion of deaths before and after handwashing\n",
    "ax = before_washing.plot(x=\"date\", \n",
    "    y=\"proportion_deaths\",label=\"before washing\")\n",
    "after_washing.plot(x='date',y='proportion_deaths',label='after washing',ax=ax)\n",
    "\n",
    "# ... YOUR CODE FOR TASK 6 ..."
   ]
  },
  {
   "cell_type": "markdown",
   "metadata": {
    "dc": {
     "key": "586a9f9803"
    },
    "deletable": false,
    "editable": false,
    "run_control": {
     "frozen": true
    },
    "tags": [
     "context"
    ]
   },
   "source": [
    "## 7. More handwashing, fewer deaths?\n",
    "<p>Again, the graph shows that handwashing had a huge effect. How much did it reduce the monthly proportion of deaths on average?</p>"
   ]
  },
  {
   "cell_type": "code",
   "execution_count": 49,
   "metadata": {
    "dc": {
     "key": "586a9f9803"
    },
    "tags": [
     "sample_code"
    ]
   },
   "outputs": [
    {
     "data": {
      "text/plain": [
       "-0.08395660751183336"
      ]
     },
     "execution_count": 49,
     "metadata": {},
     "output_type": "execute_result"
    }
   ],
   "source": [
    "# Difference in mean monthly proportion of deaths due to handwashing\n",
    "before_proportion =before_washing['proportion_deaths']\n",
    "after_proportion = after_washing['proportion_deaths']\n",
    "import statistics\n",
    "mean_diff=statistics.mean(after_proportion)-statistics.mean(before_proportion)\n",
    "mean_diff"
   ]
  },
  {
   "cell_type": "markdown",
   "metadata": {
    "dc": {
     "key": "d8ff65292a"
    },
    "deletable": false,
    "editable": false,
    "run_control": {
     "frozen": true
    },
    "tags": [
     "context"
    ]
   },
   "source": [
    "## 8. A Bootstrap analysis of Semmelweis handwashing data\n",
    "<p>It reduced the proportion of deaths by around 8 percentage points! From 10% on average to just 2% (which is still a high number by modern standards). </p>\n",
    "<p>To get a feeling for the uncertainty around how much handwashing reduces mortalities we could look at a confidence interval (here calculated using the bootstrap method).</p>"
   ]
  },
  {
   "cell_type": "code",
   "execution_count": 51,
   "metadata": {
    "dc": {
     "key": "d8ff65292a"
    },
    "tags": [
     "sample_code"
    ]
   },
   "outputs": [
    {
     "data": {
      "text/plain": [
       "0.025   -0.100980\n",
       "0.975   -0.067148\n",
       "dtype: float64"
      ]
     },
     "execution_count": 51,
     "metadata": {},
     "output_type": "execute_result"
    }
   ],
   "source": [
    "import numpy as np\n",
    "# A bootstrap analysis of the reduction of deaths due to handwashing\n",
    "boot_mean_diff = []\n",
    "for i in range(3000):\n",
    "    boot_before =np.random.choice(before_proportion,size=76)\n",
    "    boot_after = np.random.choice(after_proportion,size=21)\n",
    "    #boot_after_mean=statistics.mean(boot_after)\n",
    "    #boot_before_mean=statistics.mean(boot_before)\n",
    "    boot_mean_diff.append(boot_after.mean() - boot_before.mean())#boot_after_mean - boot_before_mean)\n",
    "#print(boot_mean_diff)\n",
    "\n",
    "# Calculating a 95% confidence interval from boot_mean_diff \n",
    "confidence_interval =pd.Series(boot_mean_diff).quantile([0.025, 0.975])\n",
    "confidence_interval\n"
   ]
  },
  {
   "cell_type": "markdown",
   "metadata": {
    "dc": {
     "key": "0645423069"
    },
    "deletable": false,
    "editable": false,
    "run_control": {
     "frozen": true
    },
    "tags": [
     "context"
    ]
   },
   "source": [
    "## 9. The fate of Dr. Semmelweis\n",
    "<p>So handwashing reduced the proportion of deaths by between 6.7 and 10 percentage points, according to a 95% confidence interval. All in all, it would seem that Semmelweis had solid evidence that handwashing was a simple but highly effective procedure that could save many lives.</p>\n",
    "<p>The tragedy is that, despite the evidence, Semmelweis' theory — that childbed fever was caused by some \"substance\" (what we today know as <em>bacteria</em>) from autopsy room corpses — was ridiculed by contemporary scientists. The medical community largely rejected his discovery and in 1849 he was forced to leave the Vienna General Hospital for good.</p>\n",
    "<p>One reason for this was that statistics and statistical arguments were uncommon in medical science in the 1800s. Semmelweis only published his data as long tables of raw data, but he didn't show any graphs nor confidence intervals. If he would have had access to the analysis we've just put together he might have been more successful in getting the Viennese doctors to wash their hands.</p>"
   ]
  },
  {
   "cell_type": "code",
   "execution_count": 53,
   "metadata": {
    "collapsed": true,
    "dc": {
     "key": "0645423069"
    },
    "tags": [
     "sample_code"
    ]
   },
   "outputs": [],
   "source": [
    "# The data Semmelweis collected points to that:\n",
    "doctors_should_wash_their_hands = True"
   ]
  }
 ],
 "metadata": {
  "kernelspec": {
   "display_name": "Python 3",
   "language": "python",
   "name": "python3"
  },
  "language_info": {
   "codemirror_mode": {
    "name": "ipython",
    "version": 3
   },
   "file_extension": ".py",
   "mimetype": "text/x-python",
   "name": "python",
   "nbconvert_exporter": "python",
   "pygments_lexer": "ipython3",
   "version": "3.6.8"
  }
 },
 "nbformat": 4,
 "nbformat_minor": 2
}
